{
 "cells": [
  {
   "cell_type": "markdown",
   "metadata": {},
   "source": [
    "<h2>Appendix 11 - Sentiment Analysis, Polarity and Subjectivity</h2>\n",
    "\n",
    "Program using the TextBlob module to assign a polarity and sentiment score to every tweet in our corpus. The reason for choosing this approach to sentiment analysis and the underlying workings of this approach are explained in the Sentiment Analysis section of our study."
   ]
  },
  {
   "cell_type": "code",
   "execution_count": 1,
   "metadata": {
    "collapsed": true
   },
   "outputs": [],
   "source": [
    "import pandas as pd\n",
    "import numpy as np\n",
    "from textblob import TextBlob as tb"
   ]
  },
  {
   "cell_type": "code",
   "execution_count": 2,
   "metadata": {
    "collapsed": true
   },
   "outputs": [],
   "source": [
    "tweet_data = pd.read_excel(\"04sotu_with_gender_final.xlsx\")"
   ]
  },
  {
   "cell_type": "code",
   "execution_count": 3,
   "metadata": {
    "collapsed": true
   },
   "outputs": [],
   "source": [
    "# Create new columns to be populated with sentiment values\n",
    "tweet_data[\"tbpolarity\"] = np.nan\n",
    "tweet_data[\"tbsubjectivity\"] = np.nan"
   ]
  },
  {
   "cell_type": "code",
   "execution_count": 5,
   "metadata": {
    "collapsed": true
   },
   "outputs": [],
   "source": [
    "for i in range(len(tweet_data.index)):\n",
    "    text = tweet_data.at[i, \"text\"]\n",
    "    hashtags = tweet_data.at[i, \"text_hashtags_split\"]\n",
    "    if type(text) == str:\n",
    "        # Incorpate words from hashtags if available\n",
    "        if type(hashtags) == str:\n",
    "            text_with_hashtags = text + \" \" + hashtags  # Combine text and hashtags\n",
    "            text_with_hashtags_tb = tb(text_with_hashtags)  # Convert text and hashtags into textblob object\n",
    "            tweet_data.at[i,\"tbpolarity\"] = text_with_hashtags_tb.sentiment.polarity  # Calculate polarity\n",
    "            tweet_data.at[i,\"tbsubjectivity\"] = text_with_hashtags_tb.sentiment.subjectivity  #  Calculate subjectivity\n",
    "        else:\n",
    "            text_tb = tb(text)  # Convert text into textblob object\n",
    "            tweet_data.at[i,\"tbpolarity\"] = text_tb.sentiment.polarity  # Calculate polarity\n",
    "            tweet_data.at[i,\"tbsubjectivity\"] = text_tb.sentiment.subjectivity  # Calculate subjectivity"
   ]
  },
  {
   "cell_type": "code",
   "execution_count": 7,
   "metadata": {
    "collapsed": true
   },
   "outputs": [],
   "source": [
    "#  Split polarity and subjectivity values into bins of width 0.25, for early indication of spread of data\n",
    "bins = [-1.1,-0.75,-0.5,-0.25,0.0,0.25,0.5,0.75,1.0]\n",
    "polarity_binned = pd.cut(tweet_data[\"tbpolarity\"],bins)\n",
    "bins = [-0.1, 0.25, 0.5, 0.75, 1.0]\n",
    "subjectivity_binned = pd.cut(tweet_data[\"tbsubjectivity\"],bins)"
   ]
  },
  {
   "cell_type": "code",
   "execution_count": 8,
   "metadata": {},
   "outputs": [
    {
     "data": {
      "text/plain": [
       "(-0.25, 0.0]     145248\n",
       "(0.0, 0.25]       47876\n",
       "(0.25, 0.5]       36400\n",
       "(-0.5, -0.25]     15262\n",
       "(0.5, 0.75]        9514\n",
       "(-0.75, -0.5]      8813\n",
       "(0.75, 1.0]        7160\n",
       "(-1.1, -0.75]      4136\n",
       "Name: tbpolarity, dtype: int64"
      ]
     },
     "execution_count": 8,
     "metadata": {},
     "output_type": "execute_result"
    }
   ],
   "source": [
    "pd.value_counts(polarity_binned)"
   ]
  },
  {
   "cell_type": "code",
   "execution_count": 9,
   "metadata": {},
   "outputs": [
    {
     "data": {
      "text/plain": [
       "(-0.1, 0.25]    125768\n",
       "(0.25, 0.5]      61238\n",
       "(0.5, 0.75]      51439\n",
       "(0.75, 1.0]      35964\n",
       "Name: tbsubjectivity, dtype: int64"
      ]
     },
     "execution_count": 9,
     "metadata": {},
     "output_type": "execute_result"
    }
   ],
   "source": [
    "pd.value_counts(subjectivity_binned)"
   ]
  },
  {
   "cell_type": "code",
   "execution_count": 13,
   "metadata": {
    "collapsed": true
   },
   "outputs": [],
   "source": [
    "writer = pd.ExcelWriter('05sotu_with_tb_sentiment.xlsx')\n",
    "tweet_data.to_excel(writer,'Sheet1')\n",
    "writer.save()"
   ]
  }
 ],
 "metadata": {
  "kernelspec": {
   "display_name": "Python 3",
   "language": "python",
   "name": "python3"
  },
  "language_info": {
   "codemirror_mode": {
    "name": "ipython",
    "version": 3
   },
   "file_extension": ".py",
   "mimetype": "text/x-python",
   "name": "python",
   "nbconvert_exporter": "python",
   "pygments_lexer": "ipython3",
   "version": "3.6.3"
  }
 },
 "nbformat": 4,
 "nbformat_minor": 2
}
