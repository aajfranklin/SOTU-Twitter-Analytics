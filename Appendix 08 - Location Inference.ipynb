{
 "cells": [
  {
   "cell_type": "markdown",
   "metadata": {},
   "source": [
    "<h2>Appendix 8 - Location Inference</h2>\n",
    "\n",
    "This program uses cross references tweet location fields with a gazetteer (geographical dictionary) to assign a state abbreviation to each tweet where possible. The need for this information, contents of the gazetteer, and reasoning for choosing this rule-based approach over a machine learning system are included in the Assigning Location section of our study."
   ]
  },
  {
   "cell_type": "code",
   "execution_count": 1,
   "metadata": {
    "collapsed": true
   },
   "outputs": [],
   "source": [
    "import pandas as pd\n",
    "import numpy as np\n",
    "import string "
   ]
  },
  {
   "cell_type": "code",
   "execution_count": 2,
   "metadata": {
    "collapsed": true
   },
   "outputs": [],
   "source": [
    "# Read in gazetteer\n",
    "states = pd.read_excel(\"states_cities.xlsx\")\n",
    "\n",
    "# Convert all null values to empty strings to avoid false matches\n",
    "states.cities_abbreviated.replace(np.NaN, \"\", inplace = True)\n",
    "states.USA.replace(np.NaN, \"\", inplace = True)\n",
    "\n",
    "# Convert all columns to upper case \n",
    "for i in range(5):\n",
    "    states.iloc[:,i] = states.iloc[:,i].map(lambda x: x.upper())\n",
    "\n",
    "# Cities in the gazetteer come in comma-separated lists for each state\n",
    "# Each of these lists is recognised by Python as one String\n",
    "# Convert each String into a list, to be iterated over later\n",
    "for i in range(len(states)):\n",
    "    states.at[i, \"cities\"] = states.at[i, \"cities\"].split(\",\")\n",
    "    states.at[i, \"cities_abbreviated\"] = states.at[i, \"cities_abbreviated\"].split(\",\")"
   ]
  },
  {
   "cell_type": "code",
   "execution_count": 3,
   "metadata": {
    "collapsed": true
   },
   "outputs": [],
   "source": [
    "# Import processed twitter data set\n",
    "tweet_locations = pd.read_excel(\"2sotu_processed.xlsx\")"
   ]
  },
  {
   "cell_type": "code",
   "execution_count": 4,
   "metadata": {
    "collapsed": true
   },
   "outputs": [],
   "source": [
    "# Add empty column to imported tweet fields, to be populated with matched states later\n",
    "tweet_locations[\"state\"] = \"\""
   ]
  },
  {
   "cell_type": "code",
   "execution_count": 5,
   "metadata": {
    "collapsed": true
   },
   "outputs": [],
   "source": [
    "# Checks for tokens in the tweet location field that match US state abbreviations, with some exceptions.\n",
    "# Uses tokens to avoid unwanted matches, e.g. \"woodlands\" does not return \"LA\"\n",
    "def check_abbreviations(n):\n",
    "        \n",
    "        # Tokenise the tweet location\n",
    "        tweet_location_list = tweet_location.split(\" \")\n",
    "        \n",
    "        # Iterate through state abbreviations, set the tweet's \"state\" field on finding a match\n",
    "        for i in range(len(states)):\n",
    "            abbreviation_candidate = states.at[i, \"state\"]\n",
    "            if (abbreviation_candidate not in false_flags) and (abbreviation_candidate in tweet_location_list):\n",
    "                tweet_locations.at[n, \"state\"] = abbreviation_candidate\n",
    "                break\n",
    "\n",
    "# List of state abbreviations that are also two-letter words, to be ignored by check_abbreviations()\n",
    "# \"LA\" is also ommitted, to avoid mismatches between Louisiana and Los Angeles\n",
    "false_flags = [\"HI\",\"IN\",\"ME\",\"OH\",\"OK\",\"OR\",\"LA\"]\n",
    "\n",
    "# Checks for the full name of a state in the tweet location field\n",
    "def check_full_names(n):\n",
    "        \n",
    "        # Iterate through state names, set the tweet's \"state\" field on finding a match\n",
    "        for i in range(len(states)):\n",
    "            full_name_candidate = states.at[i, \"full_name\"]\n",
    "            if full_name_candidate in tweet_location:\n",
    "                tweet_locations.at[n, \"state\"] = states.at[i, \"state\"]\n",
    "                break\n",
    "\n",
    "# Checks for the full name of a city in the tweet location field\n",
    "def check_cities(n):\n",
    "        \n",
    "        # Nested for loop first selects a state in the gazetteer and then iterates through cities in that state\n",
    "        # Set the tweet's \"state\" field on finding a match\n",
    "        for i in range(len(states)):\n",
    "            for j in range(len(states.at[i, \"cities\"])):\n",
    "                city_candidate = states.at[i, \"cities\"][j]\n",
    "                if city_candidate in tweet_location:\n",
    "                    tweet_locations.at[n, \"state\"] = states.at[i, \"state\"]\n",
    "                    break\n",
    "            if tweet_locations.at[n, \"state\"] != \"\":\n",
    "                break\n",
    "\n",
    "# Checks for tokens in the tweet location field that match US city abbreviations\n",
    "def check_city_abbreviations(n):\n",
    "        \n",
    "        # Tokenise the tweet location\n",
    "        tweet_location_list = tweet_location.split(\" \")\n",
    "        \n",
    "        # Nested for loop first selects a state in the gazetteer and then iterates through city abbreviations in that state\n",
    "        # Set the tweet's \"state\" field on finding a match        \n",
    "        for i in range(len(states)):\n",
    "            for j in range(len(states.at[i, \"cities_abbreviated\"])):\n",
    "                city_candidate = states.at[i, \"cities_abbreviated\"][j]\n",
    "                \n",
    "                # Disregard empty city abbreviation lists, written as \"-\" in the original gazetteer file\n",
    "                if city_candidate != \"-\":\n",
    "                    if city_candidate in tweet_location_list:\n",
    "                        tweet_locations.at[n, \"state\"] = states.at[i, \"state\"]\n",
    "                        break\n",
    "            if tweet_locations.at[n, \"state\"] != \"\":\n",
    "                break\n",
    "\n",
    "# Checks for terms for the United States in the tweet location field\n",
    "def check_USA_terms(n):\n",
    "    \n",
    "        # Iterate through USA terms, set the tweet's \"state\" field to \"USA\" on finding a match        \n",
    "        for i in range(5):\n",
    "            USA_candidate = states.at[i, \"USA\"]\n",
    "            if USA_candidate in tweet_location:\n",
    "                tweet_locations.at[n, \"state\"] = \"USA\"\n",
    "                break\n",
    "\n",
    "# Iterate through tweet location fields, calling above functions to assign a matching state where possible\n",
    "# Continues to the next tweet location field on finding a match, reducing function calls\n",
    "for i in range(len(tweet_locations)):\n",
    "    tweet_location = tweet_locations.at[i, \"location\"]\n",
    "    if type(tweet_location) == str:\n",
    "        if tweet_location != \"\":\n",
    "            check_abbreviations(i)\n",
    "            if tweet_locations.at[i, \"state\"] != \"\":\n",
    "                continue\n",
    "            check_full_names(i)\n",
    "            if tweet_locations.at[i, \"state\"] != \"\":\n",
    "                continue\n",
    "            check_cities(i)\n",
    "            if tweet_locations.at[i, \"state\"] != \"\":\n",
    "                continue\n",
    "            check_city_abbreviations(i)\n",
    "            if tweet_locations.at[i, \"state\"] != \"\":\n",
    "                continue\n",
    "            check_USA_terms(i)\n"
   ]
  },
  {
   "cell_type": "code",
   "execution_count": 6,
   "metadata": {
    "collapsed": true
   },
   "outputs": [],
   "source": [
    "# Save twitter location fields and new state field information\n",
    "writer = pd.ExcelWriter('03sotu_with_states.xlsx')\n",
    "tweet_locations.to_excel(writer,'Sheet1')\n",
    "writer.save()"
   ]
  }
 ],
 "metadata": {
  "kernelspec": {
   "display_name": "Python 3",
   "language": "python",
   "name": "python3"
  },
  "language_info": {
   "codemirror_mode": {
    "name": "ipython",
    "version": 3
   },
   "file_extension": ".py",
   "mimetype": "text/x-python",
   "name": "python",
   "nbconvert_exporter": "python",
   "pygments_lexer": "ipython3",
   "version": "3.6.3"
  }
 },
 "nbformat": 4,
 "nbformat_minor": 2
}
